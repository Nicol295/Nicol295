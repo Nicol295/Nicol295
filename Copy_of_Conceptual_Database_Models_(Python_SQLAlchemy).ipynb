{
  "cells": [
    {
      "cell_type": "markdown",
      "metadata": {
        "id": "view-in-github",
        "colab_type": "text"
      },
      "source": [
        "<a href=\"https://colab.research.google.com/github/Nicol295/Nicol295/blob/main/Copy_of_Conceptual_Database_Models_(Python_SQLAlchemy).ipynb\" target=\"_parent\"><img src=\"https://colab.research.google.com/assets/colab-badge.svg\" alt=\"Open In Colab\"/></a>"
      ]
    },
    {
      "cell_type": "code",
      "source": [
        "# models.py - Defining the structure of our data entities\n",
        "\n",
        "from datetime import datetime\n",
        "from sqlalchemy import create_engine, Column, Integer, String, Float, Boolean, Text, DateTime, JSON, ForeignKey\n",
        "from sqlalchemy.orm import sessionmaker, declarative_base, relationship\n",
        "\n",
        "# --- Database Setup (Conceptual) ---\n",
        "# In a real app, this would be configured via Flask-SQLAlchemy or a similar ORM setup\n",
        "# This is a simplified example for demonstration purposes.\n",
        "DATABASE_URL = \"sqlite:///makueni_farm_connect.db\" # Example using SQLite\n",
        "engine = create_engine(DATABASE_URL)\n",
        "Session = sessionmaker(bind=engine)\n",
        "Base = declarative_base() # Base class for our declarative models\n",
        "\n",
        "# --- User Model ---\n",
        "# Represents both farmers and buyers\n",
        "class User(Base):\n",
        "    __tablename__ = 'users' # Name of the database table\n",
        "    id = Column(Integer, primary_key=True)\n",
        "    username = Column(String(80), unique=True, nullable=False)\n",
        "    password_hash = Column(String(128), nullable=False) # Stores hashed passwords for security\n",
        "    user_type = Column(String(20), nullable=False) # 'farmer', 'buyer', 'admin'\n",
        "    phone_number = Column(String(20), unique=True, nullable=False)\n",
        "    location = Column(String(100)) # e.g., 'Wote', 'Kibwezi'\n",
        "    date_joined = Column(DateTime, default=datetime.utcnow)\n",
        "\n",
        "    # Relationships: One user can have many listings (if a farmer), and many orders (if a buyer)\n",
        "    listings = relationship('ProductListing', backref='farmer', lazy=True, cascade=\"all, delete-orphan\")\n",
        "    orders_as_buyer = relationship('Order', foreign_keys='Order.buyer_id', backref='buyer', lazy=True, cascade=\"all, delete-orphan\")\n",
        "\n",
        "    def __repr__(self):\n",
        "        return f\"<User {self.username} ({self.user_type})>\"\n",
        "\n",
        "# --- Product Listing Model ---\n",
        "# Represents a single item of produce listed for sale\n",
        "class ProductListing(Base):\n",
        "    __tablename__ = 'product_listings'\n",
        "    id = Column(Integer, primary_key=True)\n",
        "    farmer_id = Column(Integer, ForeignKey('users.id'), nullable=False) # Links to the farmer who posted it\n",
        "    product_name = Column(String(100), nullable=False)\n",
        "    product_category = Column(String(50)) # e.g., 'Fruits', 'Vegetables', 'Grains', 'Livestock'\n",
        "    description = Column(Text)\n",
        "    quantity = Column(Float, nullable=False) # e.g., 100\n",
        "    unit = Column(String(20)) # e.g., 'kg', 'piece', 'bunch', 'head'\n",
        "    price_per_unit = Column(Float, nullable=False) # Price per specified unit\n",
        "    image_url = Column(String(255)) # Optional: URL to an uploaded product image\n",
        "    is_available = Column(Boolean, default=True) # Flag to show if the listing is active\n",
        "    date_posted = Column(DateTime, default=datetime.utcnow)\n",
        "\n",
        "    # Flexible properties to accommodate diverse produce attributes\n",
        "    # e.g., {'variety': 'Sukuma Wiki', 'color': 'green'} or {'breed': 'Dairy Cow', 'age': '2 years'}\n",
        "    properties = Column(JSON)\n",
        "\n",
        "    # Relationship: One listing can have many orders\n",
        "    orders = relationship('Order', foreign_keys='Order.listing_id', backref='listing', lazy=True, cascade=\"all, delete-orphan\")\n",
        "\n",
        "    def __repr__(self):\n",
        "        return f\"<Listing {self.product_name} by {self.farmer.username}>\"\n",
        "\n",
        "# --- Order Model ---\n",
        "# Represents a transaction where a buyer places an order for a product listing\n",
        "class Order(Base):\n",
        "    __tablename__ = 'orders'\n",
        "    id = Column(Integer, primary_key=True)\n",
        "    listing_id = Column(Integer, ForeignKey('product_listings.id'), nullable=False) # Links to the ordered product listing\n",
        "    buyer_id = Column(Integer, ForeignKey('users.id'), nullable=False) # Links to the buyer who placed the order\n",
        "    ordered_quantity = Column(Float, nullable=False) # Quantity the buyer wants\n",
        "    total_price = Column(Float, nullable=False) # Calculated total price for the order\n",
        "    order_status = Column(String(20), default='pending') # 'pending', 'accepted', 'rejected', 'completed'\n",
        "    order_date = Column(DateTime, default=datetime.utcnow)\n",
        "\n",
        "    def __repr__(self):\n",
        "        return f\"<Order {self.id} for {self.listing.product_name} by {self.buyer.username}>\"\n",
        "\n",
        "# --- Database Initialization (For initial setup) ---\n",
        "# Uncomment and run this once to create the tables in your database\n",
        "# Base.metadata.create_all(engine)"
      ],
      "outputs": [],
      "execution_count": null,
      "metadata": {
        "id": "nOwOB0rySTKi"
      }
    }
  ],
  "metadata": {
    "colab": {
      "provenance": [],
      "include_colab_link": true
    },
    "kernelspec": {
      "display_name": "Python 3",
      "name": "python3"
    }
  },
  "nbformat": 4,
  "nbformat_minor": 0
}